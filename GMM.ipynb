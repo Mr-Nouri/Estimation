{
 "cells": [
  {
   "cell_type": "markdown",
   "id": "0341ed92",
   "metadata": {},
   "source": [
    "<h1><center>In the name of God</center></h1>"
   ]
  },
  {
   "cell_type": "code",
   "execution_count": 1,
   "id": "3645da95",
   "metadata": {},
   "outputs": [],
   "source": [
    "using  Plots, LinearAlgebra, GLM, Optim, DataFrames, StatFiles, Distributions\n",
    "pyplot();"
   ]
  },
  {
   "cell_type": "markdown",
   "id": "1d806830",
   "metadata": {},
   "source": [
    "# Linear Regression Model"
   ]
  },
  {
   "cell_type": "markdown",
   "id": "7d385e1d",
   "metadata": {},
   "source": [
    "Assume the linear regression model:\n",
    "$$\n",
    "y = x\\beta + u\n",
    "$$\n",
    "where\n",
    "$$\n",
    "X_{K\\times1} \\quad and \\quad \\beta_{K\\times1}\n",
    "$$"
   ]
  },
  {
   "cell_type": "markdown",
   "id": "c2c11117",
   "metadata": {},
   "source": [
    "## OLS as GMM"
   ]
  },
  {
   "cell_type": "markdown",
   "id": "0f742e83",
   "metadata": {},
   "source": [
    "law of iterated expectations says:\n",
    "$$\n",
    "E(E(X|Y))=E(X)\n",
    "$$\n",
    "\n",
    "so, we define:\n",
    "$$\n",
    "E(xu) = E(E(xu|x))\n",
    "$$\n",
    "\n",
    "now, as we know from algebra and conditional mean independence:\n",
    "\n",
    "$$\n",
    "E(xu|x) = xE(u|x)\n",
    "$$\n",
    "and\n",
    "$$\n",
    "E(u|x)=0\n",
    "$$\n",
    "\n",
    "then, we have:\n",
    "$$\n",
    "E(E(xu|x)) = E(xE(u|x)) \\Rightarrow E(xu) = 0\n",
    "$$\n",
    "this conclusion leads us to:\n",
    "$$\n",
    "E(x_{1}u)=E(x_{2}u)=\\ldots=E(x_{K}u)=0\n",
    "$$\n",
    "Now, we want to show that OLS is the special case of GMM:\n",
    "from the above conclusions we find one moment of population:\n",
    "$$\n",
    "E(x_{K\\times1} u_{K\\times1}) = 0\n",
    "$$\n",
    "from the regression model we know:\n",
    "$$\n",
    "y = x\\beta + u \\Rightarrow u = y - x\\beta\n",
    "$$\n",
    "so\n",
    "$$\n",
    "E[x (y - x\\beta) ] =0\n",
    "$$\n",
    "thus to estimate beta from GMM we can define the g(.) function and solve the minimization problem:\n",
    "$$\n",
    "g(\\beta) =  \\frac{1}{n} \\Sigma_{i=1}^{n} (x (y - x\\beta))\n",
    "$$\n",
    "so \n",
    "$$\n",
    "\\hat{\\beta} = argmin (g' w g)\n",
    "$$\n",
    "in this question we have:\n",
    "$$\n",
    "\\hat{\\beta} = (\\Sigma_{i=1}^{n}(x_i x'_i))^{-1}(\\Sigma_{i=1}^{n}(x_iy_i))\n",
    "$$\n",
    "$$\n",
    "\\Rightarrow \\hat{\\beta}_{GMM} = \\frac{\\Sigma_{i=1}^{n}(x_iy_i)}{\\Sigma_{i=1}^{n}(x_i x'_i))} = \\hat{\\beta}_{OLS}\n",
    "$$\n",
    "So, we showed the OLS is the special case of GMM.\n"
   ]
  },
  {
   "cell_type": "markdown",
   "id": "b51a7023",
   "metadata": {},
   "source": [
    "## Additional Moment Restrictions"
   ]
  },
  {
   "cell_type": "markdown",
   "id": "e09d16af",
   "metadata": {},
   "source": [
    "Based on what has been said before, we know that each condition\n",
    "$$\n",
    "E(u|x)=0 \\quad and \\quad E(u^3|x)=0\n",
    "$$\n",
    "gives us K moment.\n",
    "so we have 2K moments overall, and there are only K parameters.\n",
    "in this case, we can't use MM anymore and we must use GMM."
   ]
  },
  {
   "cell_type": "markdown",
   "id": "042d7a77",
   "metadata": {},
   "source": [
    "# Instrumental Variables Regression"
   ]
  },
  {
   "cell_type": "markdown",
   "id": "a8e70d66",
   "metadata": {},
   "source": [
    "## Exclusion Restriction"
   ]
  },
  {
   "cell_type": "markdown",
   "id": "1241b3d1",
   "metadata": {},
   "source": [
    "Different assumptions must be done to validate the instrumental variable method.\n",
    "Two very important assumptions are relevance condition and exclusion restriction.\n",
    "In exclusion restriction, we assume that IV \"z\" affects the dependent variable only through the independent variable \"x\".\n",
    "In other words, we assume that z is orthogonal to u space that which means u and z must be uncorrelated.\n",
    "in mathematical words we must have:\n",
    "$$\n",
    "cov(z,u) = 0\n",
    "$$\n",
    "\n",
    "We can describe exclusion restriction in a graphical way as we show below:"
   ]
  },
  {
   "cell_type": "markdown",
   "id": "3145a3b9",
   "metadata": {},
   "source": [
    "<img src=\"pic.png\">"
   ]
  },
  {
   "cell_type": "markdown",
   "id": "4721fadd",
   "metadata": {},
   "source": [
    "## Method of Moment"
   ]
  },
  {
   "cell_type": "markdown",
   "id": "da868b3b",
   "metadata": {},
   "source": [
    "As we said above, we can write using the law of iterated expectations:\n",
    "$$\n",
    "E(zu) = E(E(zu|z))\n",
    "$$\n",
    "From algebra we know that: \n",
    "$$\n",
    "E(zu|z) = zE(u|z)\n",
    "$$\n",
    "From the exclusion restriction assumption we know:\n",
    "$$\n",
    "E(u|z) = E(u)\n",
    "$$\n",
    "because\n",
    "$$\n",
    "cov(u,z) = 0\n",
    "$$\n",
    "on the other hand from the zero conditional means we know:\n",
    "$$\n",
    "E(u) = 0\n",
    "$$\n",
    "so:\n",
    "$$\n",
    "E(zu) = E(E(zu|z)) = zE(u|z) =zE(u) = z \\times 0 = 0\n",
    "$$\n",
    "$$\n",
    "\\Rightarrow E[z(y-x'\\beta)] = 0\n",
    "$$\n",
    "\n",
    "sample moment conditions:\n",
    "$$\n",
    "g(\\beta) =  \\frac{1}{n} \\Sigma_{i=1}^{n} (z (y - x\\beta))\n",
    "$$\n",
    "there is a unique solution if the number of parameters is equal to the number of instrumental variables."
   ]
  },
  {
   "cell_type": "markdown",
   "id": "ea8af6b6",
   "metadata": {},
   "source": [
    "## GMM"
   ]
  },
  {
   "cell_type": "markdown",
   "id": "f93573de",
   "metadata": {},
   "source": [
    "if there are more potential instruments than regressors we don't have a unique solution anymore. it's because of the inequality in the number of instrumental variables and parameters that leads us to KxM system of equations.\n",
    "\n",
    "as we showed above:\n",
    "$$\n",
    "g(\\beta) =  \\frac{1}{n} \\Sigma_{i=1}^{n} (z (y - x\\beta))\n",
    "$$\n",
    "so the GMM solve below minimization problem:\n",
    "$$\n",
    "min \\; g'(\\beta)\\times W \\times g(\\beta)\n",
    "$$"
   ]
  },
  {
   "cell_type": "markdown",
   "id": "4a329135",
   "metadata": {},
   "source": [
    "# Duration of Unemployment and Hazard of Job Finding"
   ]
  },
  {
   "cell_type": "markdown",
   "id": "5a834be8",
   "metadata": {},
   "source": [
    "## Mean duration and Survivor Function"
   ]
  },
  {
   "cell_type": "markdown",
   "id": "2d52559b",
   "metadata": {},
   "source": [
    "$$ E[T] = \\int_{0}^{\\infty} uf(u) \\,du \\stackrel{\\text{Integration by parts}}{\\equiv} u\\int_{0}^{\\infty} f(u) \\,du - \\int_{0}^{\\infty}(\\int_{0}^{\\infty} f(u) \\,du)du \\text { (1)}$$\n",
    "\n",
    "$$ \\int_{0}^{\\infty} f(u) \\,du = F(u) \\Rightarrow \\text { (1) } = uF(u)|_{0}^{\\infty} - \\int_{0}^{\\infty} F(u) \\,du \\text { (2) }$$\n",
    "$$ $$\n",
    "Since F($\\infty$) = 1 and F(0) = 0, it follows that $uF(u)|_{0}^{\\infty} = \\int_{0}^{\\infty} 1 \\,du \\Rightarrow$\n",
    "$$ $$\n",
    "$$ \\text { (2) } = \\int_{0}^{\\infty} (1-F(u)) \\,du = \\int_{0}^{\\infty} S(u) \\,du $$"
   ]
  },
  {
   "cell_type": "markdown",
   "id": "ec48cd74",
   "metadata": {},
   "source": [
    "## Hazard Function"
   ]
  },
  {
   "cell_type": "markdown",
   "id": "3ce5517c",
   "metadata": {},
   "source": [
    "$$\\lambda(t)=\\lim_{\\Delta t \\to 0}\\frac{Pr[t \\leq T \\leq t+\\Delta t|T \\geq t]}{\\Delta t}$$\n",
    "$$ $$\n",
    "$$ Pr[t \\leq T \\leq t+\\Delta t|T \\geq t] = \\frac{Pr[t \\leq T \\leq t+\\Delta t,T \\geq t]}{\\Pr[T \\geq t]} = \\frac{f(t)\\Delta t}{S(t)} $$\n",
    "$$ $$\n",
    "$$ \\Rightarrow \\lambda(t)=\\lim_{\\Delta t \\to 0} = \\frac{f(t)\\Delta t}{S(t)\\Delta t} = \\frac{f(t)}{S(t)}  $$\n",
    "$$ $$\n",
    "$$ \\frac{dS(t)}{dt}=-f(t) \\Rightarrow \\lambda(t) = -\\frac{\\frac{dS(t)}{dt}}{S(t)} = -\\frac{d \\text{ }ln(S(t))}{dt}  $$"
   ]
  },
  {
   "cell_type": "markdown",
   "id": "fc6fa8e4",
   "metadata": {},
   "source": [
    "## Proportional Hazards Model"
   ]
  },
  {
   "cell_type": "markdown",
   "id": "e0a03096",
   "metadata": {},
   "source": [
    "Structural assumptions:\n",
    "$$$$\n",
    "1- $\\lambda_0(t,\\alpha)$ is a function of t alone and it is the same for everyone.\n",
    "$$$$\n",
    "2- $\\phi(x,\\beta)$ is a function of x alone.\n",
    "$$$$\n",
    "3- $\\phi(x,\\beta)$ =  $e^{x'\\beta}$.\n",
    "$$$$\n",
    "$$$$\n",
    "Parameters that are to be estimated:\n",
    "$$$$\n",
    "1- $\\alpha$\n",
    "$$$$\n",
    "2- $\\beta$\n",
    "$$$$\n",
    "$$$$\n",
    "Methods for estimating the parameters:\n",
    "$$$$\n",
    "1- GMM\n",
    "$$$$\n",
    "2- MLE"
   ]
  },
  {
   "cell_type": "markdown",
   "id": "f15d452b",
   "metadata": {},
   "source": [
    "## GMM"
   ]
  },
  {
   "cell_type": "markdown",
   "id": "862babb5",
   "metadata": {},
   "source": [
    "### Baseline Hazard"
   ]
  },
  {
   "cell_type": "markdown",
   "id": "a090a518",
   "metadata": {},
   "source": [
    "$\\lambda_0(t)$ is a baseline hazard function that describes the risk for individuals with $x_i$ = 0, who serve as a reference cell or pivot\n",
    "$$$$\n",
    "$$ \\lambda(t) = -\\frac{d \\text{ }ln(S(t))}{dt} \\Rightarrow \\int_{0}^{t} \\lambda(u) \\,du = -ln S(t) + C \\Rightarrow e^{\\int_{0}^{t} \\lambda(u) \\,du} = \\frac{C}{S(t)}  $$\n",
    "$$$$\n",
    "$$\\int_{0}^{t} \\lambda(u) \\,du = \\frac{t^{1-\\alpha}}{1-\\alpha} \\Rightarrow S(t) = Ce^{\\frac{t^{1-\\alpha}}{\\alpha-1}}$$\n",
    "$$$$\n",
    "S(t) is monotonically declining from one to zero (S($\\infty$) = 0) $\\Rightarrow$\n",
    "$$$$\n",
    "$$1-\\alpha > 0 \\text { And } \\alpha-1 < 0 \\Rightarrow \\alpha < 1 \\text { (1)}$$\n",
    "$$$$\n",
    "The baseline hazard function is expected to be decreasing, because the survival probability decreases over time; so should $\\alpha > 0$ (2)\n",
    "$$$$\n",
    "$$(1), (2) \\Rightarrow  0 <\\alpha < 1$$"
   ]
  },
  {
   "cell_type": "markdown",
   "id": "28735c30",
   "metadata": {},
   "source": [
    "### Estimation: MLE not possible"
   ]
  },
  {
   "cell_type": "markdown",
   "id": "b1614949",
   "metadata": {},
   "source": [
    "The most important result for MLE is that it is efficient but we haven't any assumption about functional form of full data generating process which would be required to write down the maximum likelihood estimator."
   ]
  },
  {
   "cell_type": "markdown",
   "id": "27cf94b2",
   "metadata": {},
   "source": [
    "### Moments"
   ]
  },
  {
   "cell_type": "markdown",
   "id": "be081da4",
   "metadata": {},
   "source": [
    "The smallest number of moments that we need for MM estimation is equal to the number of parameters which is 3.\n",
    "$$$$\n",
    "$$\\lambda(t|x) = \\lambda_0(t,\\alpha)\\phi(x,\\beta)$$\n",
    "$$$$\n",
    "$$\\text{And } \\lambda_0(t,\\alpha) = \\frac{1}{t^\\alpha}, \\phi(x,\\beta) = e^{\\beta_0 + \\beta_1school} \\Rightarrow $$\n",
    "$$$$\n",
    "$$ \\lambda(t=s| school=0) = \\frac{e^{\\beta_0}}{s^\\alpha} $$\n",
    "$$$$\n",
    "$$\\lambda(t=s| school=1) = \\frac{e^{\\beta_0 + \\beta_1}}{s^\\alpha}$$\n",
    "$$$$"
   ]
  },
  {
   "cell_type": "markdown",
   "id": "45af1a71",
   "metadata": {},
   "source": [
    "The smallest number of moments that we need for MM estimation is equal to the number of parameters which is 3.\n",
    "$$$$\n",
    "$$\\lambda(t|x) = \\lambda_0(t,\\alpha)\\phi(x,\\beta)$$\n",
    "$$$$\n",
    "$$\\text{And } \\lambda_0(t,\\alpha) = \\frac{1}{t^\\alpha}, \\phi(x,\\beta) = e^{\\beta_0 + \\beta_1school} \\Rightarrow $$\n",
    "$$$$\n",
    "$$ \\lambda(t=s| school=0) = \\frac{e^{\\beta_0}}{s^\\alpha} $$\n",
    "$$$$\n",
    "$$\\lambda(t=s| school=1) = \\frac{e^{\\beta_0 + \\beta_1}}{s^\\alpha}$$\n",
    "$$$$\n",
    "GMM minimization:\n",
    "$$$$\n",
    "$$\n",
    "    \\forall s\\in [1:24]:Argmin_{\\hat\\alpha,\\hat\\beta_0,\\hat\\beta_1}\\left\\{\n",
    "                \\begin{array}{ll}\n",
    "                  \\lambda(t=s| school=0) - \\frac{e^{\\beta_0}}{s^\\alpha}\\\\\n",
    "                  \\lambda(t=s| school=1) - \\frac{e^{\\beta_0 + \\beta_1}}{s^\\alpha}\\\n",
    "                \\end{array}\n",
    "              \\right.\n",
    "$$"
   ]
  },
  {
   "cell_type": "markdown",
   "id": "574f3e88",
   "metadata": {},
   "source": [
    "### Estimation: GMM"
   ]
  },
  {
   "cell_type": "code",
   "execution_count": 2,
   "id": "210d8f61",
   "metadata": {},
   "outputs": [
    {
     "data": {
      "text/plain": [
       "0.029813885167309647"
      ]
     },
     "execution_count": 2,
     "metadata": {},
     "output_type": "execute_result"
    }
   ],
   "source": [
    "data = DataFrame(load(\"hazard.dta\"))\n",
    "df = data[:,[\"duration\", \"college\"]]\n",
    "du = combine(groupby(df, [:duration, :college]), nrow => :count)\n",
    "du_0 = filter(:college => x -> x==0, du)\n",
    "du_1 = filter(:college => x -> x==1, du)\n",
    "pr_l_0 = sum(du_0[1:5,:count])/sum(du_0[:,:count])\n",
    "pr_l_1 = sum(du_1[1:5,:count])/sum(du_1[:,:count])\n",
    "pr_lg_0 = sum(du_0[6:13,:count])/sum(du_0[:,:count])\n",
    "pr_lg_1 = sum(du_1[6:13,:count])/sum(du_1[:,:count])\n",
    "pr_g_0 = sum(du_0[16:24,:count])/sum(du_0[:,:count])\n",
    "pr_g_1 = sum(du_1[16:24,:count])/sum(du_1[:,:count])"
   ]
  },
  {
   "cell_type": "code",
   "execution_count": 3,
   "id": "82aa70db",
   "metadata": {},
   "outputs": [
    {
     "data": {
      "text/plain": [
       "m6 (generic function with 1 method)"
      ]
     },
     "execution_count": 3,
     "metadata": {},
     "output_type": "execute_result"
    }
   ],
   "source": [
    "m1(θ) = pr_l_0 - ((5^(1-θ[1]))/(1-θ[1])) .* exp(θ[2])\n",
    "m2(θ) = pr_l_1 - ((5^(1-θ[1]))/(1-θ[1])) .* exp(θ[2] + θ[3])\n",
    "m3(θ) = pr_lg_0 - ((13^(1-θ[1]))/(1-θ[1])) .* exp(θ[2]) + ((5^(1-θ[1]))/(1-θ[1])) .* exp(θ[2])\n",
    "m4(θ) = pr_lg_1 - ((13^(1-θ[1]))/(1-θ[1])) .* exp(θ[2] + θ[3]) + ((5^(1-θ[1]))/(1-θ[1])) .* exp(θ[2] + θ[3])\n",
    "m5(θ) = pr_g_0 - 1 + ((15^(1-θ[1]))/(1-θ[1])) .* exp(θ[2])\n",
    "m6(θ) = pr_g_1 - 1 + ((15^(1-θ[1]))/(1-θ[1])) .* exp(θ[2] + θ[3])"
   ]
  },
  {
   "cell_type": "code",
   "execution_count": 4,
   "id": "a127e537",
   "metadata": {},
   "outputs": [
    {
     "data": {
      "text/plain": [
       "3-element Vector{Float64}:\n",
       "  0.7603322621037055\n",
       " -2.2546705318476357\n",
       "  0.1859382866861902"
      ]
     },
     "execution_count": 4,
     "metadata": {},
     "output_type": "execute_result"
    }
   ],
   "source": [
    "J(θ) = m1(θ)^2 + m2(θ)^2 + m3(θ)^2 + m4(θ)^2 + m5(θ)^2 + m6(θ)^2\n",
    "opt = optimize(J, [0.0, 0.0, 0.0])\n",
    "theta = opt.minimizer"
   ]
  },
  {
   "cell_type": "code",
   "execution_count": 5,
   "id": "918f52ea",
   "metadata": {},
   "outputs": [
    {
     "name": "stdout",
     "output_type": "stream",
     "text": [
      "Sargan-Hansen J-test:\n",
      "Chi-Square(3, 0.995) = 0.07172177458649205 and 0.03642834753006077 < 0.07172177458649205 so the model doesn't become rejected\n"
     ]
    }
   ],
   "source": [
    "j = J(theta)\n",
    "chi = cquantile(Chisq(3), .995)\n",
    "println(\"Sargan-Hansen J-test:\")\n",
    "println(\"Chi-Square(3, 0.995) = $(chi) and $(j) < $(chi) so the model doesn't become rejected\")"
   ]
  }
 ],
 "metadata": {
  "kernelspec": {
   "display_name": "Julia 1.7.2",
   "language": "julia",
   "name": "julia-1.7"
  },
  "language_info": {
   "file_extension": ".jl",
   "mimetype": "application/julia",
   "name": "julia",
   "version": "1.7.2"
  }
 },
 "nbformat": 4,
 "nbformat_minor": 5
}
