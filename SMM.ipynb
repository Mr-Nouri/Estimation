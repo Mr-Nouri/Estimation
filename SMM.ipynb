{
 "cells": [
  {
   "cell_type": "markdown",
   "id": "194269de",
   "metadata": {},
   "source": [
    "<h1><center>In the name of God</center></h1>"
   ]
  },
  {
   "cell_type": "code",
   "execution_count": 61,
   "id": "1d33b7e3",
   "metadata": {},
   "outputs": [],
   "source": [
    "using  Plots, LinearAlgebra, GLM, Optim, DataFrames, StatFiles, Distributions, Roots, KernelDensity, BlackBoxOptim, Random\n",
    "pyplot();"
   ]
  },
  {
   "cell_type": "markdown",
   "id": "19bad47e",
   "metadata": {},
   "source": [
    "# Monte-Carlo Simulation of firm's behavior in exportation"
   ]
  },
  {
   "cell_type": "markdown",
   "id": "fcb8bd0a",
   "metadata": {},
   "source": [
    "## 1 Setup a firm's problem"
   ]
  },
  {
   "cell_type": "markdown",
   "id": "9cbd8c81",
   "metadata": {},
   "source": [
    "In this case, the company faces two problems.\n",
    "First, it solves the problem of the domestic market. In this case, if its profit is negative, it will not produce at all. If the firm's profit is positive in this problem, the firm will seek to solve the second problem.\n",
    "In the second problem, the firm will resolve the problem when it can export. If its profit is negative, it will not export. If its profit is positive, it will export.\n",
    "It should be noted that in the case of exports, we must compare the amount of profits in the domestic market and the export market. If sales only in the domestic market are more profitable for the firm than sales in both domestic and foreign markets, then the firm will produce in the domestic market."
   ]
  },
  {
   "cell_type": "markdown",
   "id": "718d2f13",
   "metadata": {},
   "source": [
    "In the first problem we have as in the fifth exercise:\n",
    "First of all, to simplify the problem we solve the cost minimization problem for the firm. (our goal is to get rid of L :))\n",
    "To reach our aim we have two ways:\n",
    "1) from the question's assumptions we have:\n",
    "$$\n",
    "y=Al^{\\alpha}\n",
    "$$\n",
    "so we can easily simplify the equation and then we have:\n",
    "$$\n",
    "l^{*} = {(\\frac{y}{A})}^{\\frac{1}{\\alpha}}\n",
    "$$\n",
    "\n",
    "2) we can classically solve the CMP:\n",
    "\n",
    "$$\n",
    "\\min{wl + f_0}\n",
    "\\\\\n",
    "s.t. y <= Al^{\\alpha}\n",
    "\\\\\n",
    "\\\\\n",
    "\\Rightarrow Lagrangian = -wl - f_0 + \\lambda (Al^{\\alpha} - y)\n",
    "\\\\\n",
    "\\Rightarrow [l]: -w+\\lambda(\\alpha Al^{\\alpha -1})\n",
    "\\\\\n",
    "\\Rightarrow l^{*} = (\\frac{w}{\\lambda \\alpha A})^{{\\frac{1}{\\alpha -1}}}\n",
    "$$\n",
    "with some algebra ...:\n",
    "$$\n",
    "\\Rightarrow l^{*} = {(\\frac{y}{A})}^{\\frac{1}{\\alpha}}\n",
    "$$\n",
    "So, to set up the firm's problem we want to set up the profit function:\n",
    "$$\n",
    "\\pi = total \\ revenu - total \\ cost\n",
    "\\\\\n",
    "\\pi = py - (wl^{*}+f_0)\n",
    "\\\\\n",
    "\\pi = py - (w{(\\frac{y}{A})}^{\\frac{1}{\\alpha}}+f_0)\n",
    "$$\n",
    "Now we can set up a profit maximization problem for the firm:\n",
    "$$\n",
    "\\max: py - (w{(\\frac{y}{A})}^{\\frac{1}{\\alpha}}+f_0)\n",
    "\\\\\n",
    "s.t. \\ y = Y(\\frac{p}{P})^{-\\sigma}\n",
    "$$\n"
   ]
  },
  {
   "cell_type": "markdown",
   "id": "33becdf4",
   "metadata": {},
   "source": [
    "If the firm has a positive profit by solving this problem, this time we must solve the second problem as well"
   ]
  },
  {
   "cell_type": "markdown",
   "id": "112a55c9",
   "metadata": {},
   "source": [
    "in the second problem we have:\n",
    "$$\n",
    "Total Cost    = \\omega l + f_0 + f_x \n",
    "$$\n",
    "\n",
    "$$\n",
    "Total Revenue = p_d y_d + (1 - \\tau) p_x y_x\n",
    "$$\n",
    "\n",
    "$$\n",
    "\\pi = p_d y_d + (1 - \\tau) p_x y_x - (\\omega l + f_0 + f_x )\n",
    "$$\n",
    "\n",
    "$$\n",
    "A (l^*)^{\\alpha} = y_X + y_d \\Rightarrow l^* = (\\frac{y_x + y_d}{A})^{\\frac{1}{\\alpha}}\n",
    "$$\n",
    "\n",
    "$$\n",
    "y_d = Y(\\frac{p_d}{P})^{-\\sigma}\n",
    "$$\n",
    "\n",
    "$$\n",
    "y_x = Y(\\frac{p_x}{P})^{-\\sigma}\n",
    "$$\n",
    "\n",
    "$$\n",
    "$$"
   ]
  },
  {
   "cell_type": "markdown",
   "id": "ad6a8675",
   "metadata": {},
   "source": [
    "so we must solve this problem:\n",
    "$$\n",
    "\\max: p_d y_d + (1 - \\tau) p_x y_x - (\\omega l + f_0 + f_x )\n",
    "\\\\\n",
    "s.t. \\ y_x + y_d = Y(\\frac{p_x}{P})^{-\\sigma} + Y(\\frac{p_d}{P})^{-\\sigma}\n",
    "$$"
   ]
  },
  {
   "cell_type": "markdown",
   "id": "4782a831",
   "metadata": {},
   "source": [
    "in this case the firm's profit is:\n",
    "$$\n",
    "\\pi = p_d \\; \\underbrace{Y \\; (\\frac{p_d}{P})^{-\\sigma}}_{y_d} + (1 - \\tau) \\; p_x \\; \\underbrace{Y \\; (\\frac{p_x}{P})^{-\\sigma}}_{y_x} - \\underbrace{\\; \\; \\;Cost \\;(y_d \\; , \\; y_x) \\; \\; \\;}_{\\omega \\underbrace{\\; \\; \\; l \\; \\; \\;}_{ (\\frac{\\overbrace{\\; \\; \\; y_x \\; \\; \\; }^{Y(\\frac{p_x}{P})^{-\\sigma}} + \\overbrace{\\; \\; \\; y_d \\; \\; \\;}^{Y(\\frac{p_d}{P})^{-\\sigma}}}{A})^{\\frac{1}{\\alpha}}} + \\; \\; f_0 \\; \\; + \\; \\; f_x}\n",
    "$$\n"
   ]
  },
  {
   "cell_type": "markdown",
   "id": "cc7fe7c4",
   "metadata": {},
   "source": [
    "## 2 Solve for the the firm's price"
   ]
  },
  {
   "cell_type": "markdown",
   "id": "5c7cce3c",
   "metadata": {},
   "source": [
    "for the first problem as we know from pset5 we have:\n",
    "We can rewrite the problem as below:\n",
    "$$\n",
    "\\max: py - Cost(y)\n",
    "\\\\\n",
    "s.t. \\ y = Y(\\frac{p}{P})^{-\\sigma}\n",
    "$$\n",
    "Now we want to solve the problem for price. we can easily get derivative from objective function with respect to price. \n",
    "$$\n",
    "\\Rightarrow \\ y + p\\frac{dy}{dp} - \\frac{dy}{dp}Cost^{'}(y) = 0 \n",
    "$$\n",
    "We remember from microeconomics that term $\\frac{\\frac{dy}{y}}{\\frac{dp}{p}}$ is equal to price elasticity of demand.\n",
    "So with some algebraic calculation, we have:\n",
    "$$\n",
    "\\Rightarrow \\ y \\ (1+\\frac{\\frac{dy}{y}}{\\frac{dp}{p}}-\\frac{\\frac{dy}{y}}{\\frac{dp}{p}}\\frac{Cost^{'}(y)}{p} ) =0 \n",
    "$$\n",
    "From the functional form $y = Y(\\frac{p}{P})^{-\\sigma}$ we know that the price elasticity of demand is equal to $-\\sigma$.\n",
    "obvously we can calculate the term $\\frac{\\frac{dy}{y}}{\\frac{dp}{p}}$ from the  $y = Y(\\frac{p}{P})^{-\\sigma}$ and see the result.\n",
    "\n",
    "So, we can rewrite the derivative as below:\n",
    "$$\n",
    "y \\ (1-\\sigma - Cost^{'}(y) \\frac{-\\sigma}{p}) = 0\n",
    "$$\n",
    "with sum algebraic calculation we have:\n",
    "$$\n",
    "p^{*} \\ = \\ \\frac{\\sigma}{\\sigma -1} Cost^{'}(y)\n",
    "$$\n",
    "\n",
    "Also, we can rewrite the $p^*$ with substitution of $Cost^{'}(y)$ as below:\n",
    "$$\n",
    "Cost^{'}(y) = \\frac{w}{a}(\\frac{1}{A})^{\\frac{1}{\\alpha}} \\ y^{\\frac{1-\\alpha}{\\alpha}}\n",
    "$$\n",
    "We know that $y = Y(\\frac{p}{P})^{-\\sigma}$\n",
    "So:\n",
    "$$\n",
    "p^{*} = \\frac{\\sigma}{\\sigma -1} \\frac{w}{a}(\\frac{1}{A})^{\\frac{1}{\\alpha}} \\ ({Y(\\frac{p}{P})^{-\\sigma}})^{\\frac{1-\\alpha}{\\alpha}}\n",
    "\\\\\n",
    "\\\\\n",
    "p^{*} = (\\frac{\\sigma}{\\sigma -1}) (\\frac{w}{a})(\\frac{1}{A})^{\\frac{1}{\\alpha}} (Y^{\\frac{1-\\alpha}{\\alpha}}) (P^{\\frac{\\sigma - \\alpha \\sigma}{\\alpha}}) ({p^*}^{\\frac{{\\sigma \\alpha - \\sigma}}{\\alpha}})\n",
    "\\\\\n",
    "\\\\\n",
    "p^{*} = {((\\frac{\\sigma}{\\sigma -1}) (\\frac{w}{a})(\\frac{1}{A})^{\\frac{1}{\\alpha}} (Y^{\\frac{1-\\alpha}{\\alpha}}) (P^{\\frac{\\sigma - \\alpha \\sigma}{\\alpha}}))}^{\\frac{\\alpha}{\\alpha -\\sigma \\alpha -\\sigma}}\n",
    "$$\n"
   ]
  },
  {
   "cell_type": "markdown",
   "id": "7185037b",
   "metadata": {},
   "source": [
    "for the second problem we have:\n",
    "\n",
    "$$\n",
    "\\frac{\\partial \\pi}{\\partial p_d} \\; = 0\n",
    "$$\n",
    "$$\n",
    "\\frac{\\partial \\pi}{\\partial p_x} \\; = 0\n",
    "$$\n",
    "\n",
    "so we have:\n",
    "\n",
    "$$\n",
    "(1-\\sigma)YP^\\sigma (p_d)^{-\\sigma} - w(\\frac{YP^\\sigma}{A})^{(\\frac{1}{\\alpha})} \\frac{1}{\\alpha}((p_d)^{-\\sigma} + (p_x)^{-\\sigma})^{\\frac{1-\\alpha}{\\alpha}} (-\\sigma) ((p_d)^{-\\sigma -1}) =0\n",
    "$$\n",
    "and\n",
    "\n",
    "$$\n",
    "(1-\\tau)(1-\\sigma)YP^\\sigma (p_x)^{-\\sigma} - w(\\frac{YP^\\sigma}{A})^{(\\frac{1}{\\alpha})} \\frac{1}{\\alpha}((p_d)^{-\\sigma} + (p_x)^{-\\sigma})^{\\frac{1-\\alpha}{\\alpha}} (-\\sigma) ((p_x)^{-\\sigma -1}) =0\n",
    "$$\n",
    "It does not seem that we can reach a closed-form for the price. but with some algebra we can find that:\n",
    "$$\n",
    "\\frac{p_x}{p_d} = \\frac{1}{1-\\tau}\n",
    "$$"
   ]
  },
  {
   "cell_type": "markdown",
   "id": "c34b0b68",
   "metadata": {},
   "source": [
    "## 3 Determine the threshod $A_0$ the a firm enters the dommestic market."
   ]
  },
  {
   "cell_type": "markdown",
   "id": "2d11d5be",
   "metadata": {},
   "source": [
    "We can calculate the threshold of $A_0$ by solving the $\\pi = 0 $ equation.\n",
    "$$\n",
    "\\Rightarrow \\pi = py - (w{(\\frac{y}{A})}^{\\frac{1}{\\alpha}}+f_0) \\ = \\ 0\n",
    "\\\\\n",
    "\\Rightarrow py = w{(\\frac{y}{A})}^{\\frac{1}{\\alpha}}+f_0\n",
    "\\\\\n",
    "\\Rightarrow py - f_0 = w{\\frac{y^{\\frac{1}{\\alpha}}}{A^{\\frac{1}{\\alpha}}}}\n",
    "\\\\\n",
    "\\Rightarrow \\frac{py - f_0}{w y^{\\frac{1}{\\alpha}}} = \\frac{1}{A^{\\frac{1}{\\alpha}}}\n",
    "\\\\\n",
    "\\Rightarrow (\\frac{py - f_0}{w y^{\\frac{1}{\\alpha}}})^{{\\alpha}} = \\frac{1}{A}\n",
    "\\\\\n",
    "\\Rightarrow A = (\\frac{w y^{\\frac{1}{\\alpha}}}{py - f_0})^{{\\alpha}}\n",
    "\\\\\n",
    "\\Rightarrow A = \\frac{w^{{\\alpha}} y}{({py - f_0})^{{\\alpha}}}\n",
    "$$\n"
   ]
  },
  {
   "cell_type": "markdown",
   "id": "c98b9768",
   "metadata": {},
   "source": [
    "## 4 Determine the threshod $A_x$ the a firm enters the export market."
   ]
  },
  {
   "cell_type": "markdown",
   "id": "84bd588e",
   "metadata": {},
   "source": [
    "We can calculate the threshold of $A_x$ by solving the $\\pi = 0 $ equation.\n",
    "$$\n",
    "\\Rightarrow \\pi = p_d \\; \\underbrace{Y \\; (\\frac{p_d}{P})^{-\\sigma}}_{y_d} + (1 - \\tau) \\; p_x \\; \\underbrace{Y \\; (\\frac{p_x}{P})^{-\\sigma}}_{y_x} - \\underbrace{\\; \\; \\;Cost \\;(y_d \\; , \\; y_x) \\; \\; \\;}_{\\omega \\underbrace{\\; \\; \\; l \\; \\; \\;}_{ (\\frac{\\overbrace{\\; \\; \\; y_x \\; \\; \\; }^{Y(\\frac{p_x}{P})^{-\\sigma}} + \\overbrace{\\; \\; \\; y_d \\; \\; \\;}^{Y(\\frac{p_d}{P})^{-\\sigma}}}{A})^{\\frac{1}{\\alpha}}} + \\; \\; f_0 \\; \\; + \\; \\; f_x}\n",
    " \\ 0\n",
    "$$"
   ]
  },
  {
   "cell_type": "markdown",
   "id": "da9cf127",
   "metadata": {},
   "source": [
    "$$\n",
    "\\Rightarrow A_x \\; = \\; [\\frac{\\omega (y_d \\; + \\; y_x)^{\\frac{1}{\\alpha}}}{p_dy_d + (1-\\tau)p_x y_x -f_0 - f_x}]^\\alpha \n",
    "$$\n",
    "or:\n",
    "$$\n",
    "\\Rightarrow A_x \\; = \\; [\\frac{\\omega (Y(\\frac{p_d}{P})^{-\\sigma} \\; + \\; Y(\\frac{p_x}{P})^{-\\sigma} )^{\\frac{1}{\\alpha}}}{p_d Y(\\frac{p_d}{P})^{-\\sigma} + (1-\\tau)p_x Y(\\frac{p_x}{P})^{-\\sigma} -f_0 - f_x}]^\\alpha \n",
    "$$\n",
    "or:\n",
    "$$\n",
    "\\Rightarrow A_x \\; = \\;\\frac{\\omega^\\alpha (Y(\\frac{p_d}{P})^{-\\sigma} \\; + \\; Y(\\frac{p_x}{P})^{-\\sigma} )}{(p_d Y(\\frac{p_d}{P})^{-\\sigma} + (1-\\tau)p_x Y(\\frac{p_x}{P})^{-\\sigma} -f_0 - f_x)^\\alpha}\n",
    "$$"
   ]
  },
  {
   "cell_type": "markdown",
   "id": "ed3deb55",
   "metadata": {},
   "source": [
    "## 5"
   ]
  },
  {
   "cell_type": "code",
   "execution_count": 62,
   "id": "33264087",
   "metadata": {},
   "outputs": [],
   "source": [
    "function firm(θ, A_bar, σ, P, Y, α, τ, f0, fx, w; N=1000)\n",
    "    A = rand(Pareto(θ,A_bar),N)\n",
    "    p0 = [0.1,0.1]\n",
    "    pd = zeros(N)\n",
    "    px = zeros(N)\n",
    "    πx = zeros(N)\n",
    "    Firm = DataFrame()\n",
    "    # for export market\n",
    "    for i in 1:N\n",
    "        cost(p) = w.*(((Y.*(p[1] ./ P).^(-σ) .+ Y.*(p[2] ./ P).^(-σ)) ./ A[i]).^(1 ./ α)) .+ f0 .+ fx\n",
    "        profit(p) = p[1].*Y.*(p[1] ./ P).^(-σ) .+ (1 .- τ).*p[2].*Y.*(p[2] ./ P).^(-σ) .- cost(p)\n",
    "        f(p) = -profit(p)\n",
    "        Pr = Optim.minimizer(optimize(f,p0))\n",
    "        pd[i] = Pr[1]\n",
    "        px[i] = Pr[2]\n",
    "        πx[i] = profit(Pr)\n",
    "    end\n",
    "    yd = Y.*(pd ./ P).^(-σ)\n",
    "    yx = Y.*(px ./ P).^(-σ)\n",
    "    lx = ((yd .+ yx) ./ A) .^ (1 ./ α)\n",
    "    # for non export market\n",
    "    pnx = ((σ ./ (σ-1)) .* (w ./ α) .* ((1 ./ A) .^ (1 ./ α)) .* (Y .^ ((1-α) ./ α)) .* (P .^ (σ*(1-α) ./ α))) .^ (α ./ (α-σ*(α-1)))\n",
    "    ynx = Y .* ((pnx ./ P) .^ (-σ))\n",
    "    lnx = (ynx ./ A) .^ (1 ./ α)\n",
    "    πnx = pnx .* ynx - w .* lnx .- f0\n",
    "    pr = ynx ./ lnx\n",
    "    Firm.\"Export\" = πx .> πnx\n",
    "    Firm.\"Profit\" = @. ifelse(Firm.\"Export\" == 0, πnx, πx)\n",
    "    Firm.\"Total production\" = @. ifelse(Firm.\"Export\" == 0, ynx, yd.+yx)\n",
    "    Firm.\"Total export\" = @. ifelse(Firm.\"Export\" == 0, 0, yx)\n",
    "    Firm.\"Sales\" = @. ifelse(Firm.\"Export\" == 0, sum(ynx.*pnx), sum(yd.*pd).+ sum(yx.*px))\n",
    "    Firm.\"Labor\" = @. ifelse(Firm.\"Export\" == 0, lnx, lx)\n",
    "    return Firm\n",
    "end;"
   ]
  },
  {
   "cell_type": "markdown",
   "id": "30f98c6a",
   "metadata": {},
   "source": [
    "## 6"
   ]
  },
  {
   "cell_type": "code",
   "execution_count": 67,
   "id": "0d7582a8",
   "metadata": {},
   "outputs": [
    {
     "name": "stdout",
     "output_type": "stream",
     "text": [
      "\u001b[1m20×6 DataFrame\u001b[0m\n",
      "\u001b[1m Row \u001b[0m│\u001b[1m Export \u001b[0m\u001b[1m Profit   \u001b[0m\u001b[1m Total production \u001b[0m\u001b[1m Total export \u001b[0m\u001b[1m Sales    \u001b[0m\u001b[1m Labor   \u001b[0m\n",
      "\u001b[1m     \u001b[0m│\u001b[90m Bool   \u001b[0m\u001b[90m Float64  \u001b[0m\u001b[90m Float64          \u001b[0m\u001b[90m Real         \u001b[0m\u001b[90m Float64  \u001b[0m\u001b[90m Float64 \u001b[0m\n",
      "─────┼─────────────────────────────────────────────────────────────────────\n",
      "   1 │  false   8.19657           3.13409       0        13.2657   3.86918\n",
      "   2 │   true  10.1292            4.81073       2.10276  22.6923   6.31209\n",
      "   3 │  false   5.31307           1.67196       0         9.19493  2.68185\n",
      "   4 │   true   9.37827           4.41383       1.92937  21.5807   6.00284\n",
      "   5 │  false   5.43486           1.72591       0         9.36685  2.732\n",
      "   6 │  false   5.81899           1.90073       0         9.90916  2.89017\n",
      "   7 │  false   8.16765           3.11757       0        13.2249   3.85727\n",
      "   8 │  false   6.10651           2.03615       0        10.3151   3.00856\n",
      "   9 │  false   5.32145           1.67565       0         9.20675  2.6853\n",
      "  10 │  false   7.00089           2.48189       0        11.5777   3.37684\n",
      "  11 │  false   6.60153           2.27832       0        11.0139   3.2124\n",
      "  12 │  false   7.29322           2.63548       0        11.9904   3.49721\n",
      "  13 │  false   5.84592           1.91325       0         9.94718  2.90126\n",
      "  14 │  false   6.02474           1.99724       0        10.1996   2.97489\n",
      "  15 │   true  16.7757            8.91993       3.89915  32.5313   9.04873\n",
      "  16 │  false   5.49084           1.75095       0         9.44589  2.75505\n",
      "  17 │  false   5.56873           1.78604       0         9.55586  2.78713\n",
      "  18 │  false   5.73669           1.86268       0         9.79297  2.85628\n",
      "  19 │  false   5.42039           1.71946       0         9.34643  2.72604\n",
      "  20 │  false   5.34707           1.68695       0         9.24292  2.69585"
     ]
    }
   ],
   "source": [
    "memory = firm(3.5, 1, 2.4, 1, 100, 0.5, 0.1, 1.2, 4, 1)\n",
    "print(memory[1:20,:]) #first 20 firm's"
   ]
  },
  {
   "cell_type": "markdown",
   "id": "880629d0",
   "metadata": {},
   "source": [
    "## 7"
   ]
  },
  {
   "cell_type": "code",
   "execution_count": 41,
   "id": "49ac768d",
   "metadata": {},
   "outputs": [
    {
     "data": {
      "image/png": "[encoded data removed]"
     },
     "execution_count": 41,
     "metadata": {},
     "output_type": "execute_result"
    }
   ],
   "source": [
    "gr(fmt = :png, size = (900, 500))\n",
    "plots = []\n",
    "p1 = plot(histogram(memory.\"Sales\"), title = \"Histogram of firms' sales\")\n",
    "push!(plots, p1)\n",
    "p2 = plot(histogram(memory.\"Total export\"), title = \"Histogram of firms' export\")\n",
    "push!(plots, p2)\n",
    "plot(plots..., legend=false, framestyle = :box)"
   ]
  },
  {
   "cell_type": "markdown",
   "id": "86e3417a",
   "metadata": {},
   "source": [
    "## 8"
   ]
  },
  {
   "cell_type": "code",
   "execution_count": 54,
   "id": "081c922e",
   "metadata": {},
   "outputs": [],
   "source": [
    "# The moments that used in each part have a value of 1 otherwise 0\n",
    "function SMM(β,list; dist=1) #β = [θ, σ, f0, fx]\n",
    "    Random.seed!(1395)\n",
    "    A_bar=1\n",
    "    P=1\n",
    "    Y=100\n",
    "    α = 0.5\n",
    "    w=1\n",
    "    τ = 0.1\n",
    "    R = 1000\n",
    "    Eg1 = mean(memory.\"Sales\")\n",
    "    Eg2 = mean(memory.\"Total export\"[memory.\"Export\" .== 1])\n",
    "    Eg3 = mean(memory.\"Export\")\n",
    "    Eg4 = mean(memory.\"Labor\"[memory.\"Export\" .== 0])\n",
    "    Eg5 = mean(memory.\"Profit\")\n",
    "    Eg6 = std(memory.\"Sales\")\n",
    "    if dist == 1\n",
    "        A = rand(Pareto(β[1],A_bar),R)\n",
    "    else\n",
    "        A = rand(LogNormal(A_bar,β[1]),R)\n",
    "    end\n",
    "    p0 = [0.1,0.1]\n",
    "    pd = zeros(R)\n",
    "    px = zeros(R)\n",
    "    πx = zeros(R)\n",
    "    Firm = DataFrame()\n",
    "    # for export market\n",
    "    for i in 1:R\n",
    "        cost(p) = w.*(((Y.*(p[1] ./ P).^(-β[2]) .+ Y.*(p[2] ./ P).^(-β[2])) ./ A[i]).^(1 ./ α)) .+ β[3] .+ β[4]\n",
    "        profit(p) = p[1].*Y.*(p[1] ./ P).^(-β[2]) .+ (1 .- τ).*p[2].*Y.*(p[2] ./ P).^(-β[2]) .- cost(p)\n",
    "        f(p) = -profit(p)\n",
    "        Pr = Optim.minimizer(optimize(f,p0))\n",
    "        pd[i] = Pr[1]\n",
    "        px[i] = Pr[2]\n",
    "        πx[i] = profit(Pr)\n",
    "    end\n",
    "    yd = Y.*(pd ./ P).^(-β[2])\n",
    "    yx = Y.*(px ./ P).^(-β[2])\n",
    "    lx = ((yd .+ yx) ./ A) .^ (1 ./ α)\n",
    "    # for non export market\n",
    "    pnx = ((β[2] ./ (β[2]-1)) .* (w ./ α) .* ((1 ./ A) .^ (1 ./ α)) .* (Y .^ ((1-α) ./ α)) .* (P .^ (β[2]*(1-α) ./ α))) .^ (α ./ (α-β[2]*(α-1)))\n",
    "    ynx = Y .* ((pnx ./ P) .^ (-β[2]))\n",
    "    lnx = (ynx ./ A) .^ (1 ./ α)\n",
    "    πnx = pnx .* ynx - w .* lnx .- β[3]\n",
    "    pr = ynx ./ lnx\n",
    "    Firm.\"Export\" = πx .> πnx\n",
    "    Firm.\"Profit\" = @. ifelse(Firm.\"Export\" == 0, πnx, πx)\n",
    "    Firm.\"Export\" = πx .> πnx\n",
    "    Firm.\"Total production\" = @. ifelse(Firm.\"Export\" == 0, ynx, yd.+yx)\n",
    "    Firm.\"Total export\" = @. ifelse(Firm.\"Export\" == 0, 0, yx)\n",
    "    Firm.\"Sales\" = @. ifelse(Firm.\"Export\" == 0, sum(ynx.*pnx), sum(yd.*pd).+ sum(yx.*px))\n",
    "    Firm.\"Labor\" = @. ifelse(Firm.\"Export\" == 0, lnx, lx)\n",
    "    m1 = mean(Firm.\"Sales\") - Eg1\n",
    "    m2 = mean(Firm.\"Total export\"[Firm.\"Export\" .== 1]) - Eg2\n",
    "    m3 = mean(Firm.\"Export\") - Eg3\n",
    "    m4 = mean(Firm.\"Labor\"[Firm.\"Export\" .== 0]) - Eg4\n",
    "    m5 = mean(Firm.\"Profit\") - Eg5\n",
    "    m6 = std(Firm.\"Sales\") - Eg6\n",
    "    J = list[1].*m1^2 + list[2].*m2^2 + list[3].*m3^2 + list[4].*m4^2 + list[5].*m5^2 + list[6].*m6^2\n",
    "end;"
   ]
  },
  {
   "cell_type": "code",
   "execution_count": 45,
   "id": "d5b1f6ae",
   "metadata": {},
   "outputs": [
    {
     "name": "stdout",
     "output_type": "stream",
     "text": [
      "Estimated θ = 3.5679633094767844\n",
      "Estimated σ = 2.387432215229473\n",
      "Estimated f0 = 1.6362606445158163\n",
      "Estimated fx = 4.093339479110405\n"
     ]
    }
   ],
   "source": [
    "J(β) = SMM(β,[1,1,1,1,0,0]; dist=1)\n",
    "β0 = [1, 1, 1, 1]\n",
    "opt = optimize(J,β0)\n",
    "println(\"Estimated θ = $(opt.minimizer[1])\")\n",
    "println(\"Estimated σ = $(opt.minimizer[2])\")\n",
    "println(\"Estimated f0 = $(opt.minimizer[3])\")\n",
    "println(\"Estimated fx = $(opt.minimizer[4])\")"
   ]
  },
  {
   "cell_type": "markdown",
   "id": "efa34523",
   "metadata": {},
   "source": [
    "## 9"
   ]
  },
  {
   "cell_type": "code",
   "execution_count": 52,
   "id": "5260d324",
   "metadata": {},
   "outputs": [
    {
     "name": "stdout",
     "output_type": "stream",
     "text": [
      "Estimated θ = 3.584790735542512\n",
      "Estimated σ = 2.384169562459442\n",
      "Estimated f0 = 1.220506518060355\n",
      "Estimated fx = 4.1141644425961825\n"
     ]
    }
   ],
   "source": [
    "# moment5: Average of profit firm's\n",
    "# moment6: Standard deviation of Sale firm's\n",
    "J(β) = SMM(β,[1,1,1,1,1,1]; dist=1)\n",
    "β0 = [1, 1, 1, 1]\n",
    "opt = optimize(J,β0)\n",
    "println(\"Estimated θ = $(opt.minimizer[1])\")\n",
    "println(\"Estimated σ = $(opt.minimizer[2])\")\n",
    "println(\"Estimated f0 = $(opt.minimizer[3])\")\n",
    "println(\"Estimated fx = $(opt.minimizer[4])\")"
   ]
  },
  {
   "cell_type": "markdown",
   "id": "8e79a0bc",
   "metadata": {},
   "source": [
    "## 10"
   ]
  },
  {
   "cell_type": "code",
   "execution_count": 57,
   "id": "a9b2d6b5",
   "metadata": {},
   "outputs": [
    {
     "name": "stdout",
     "output_type": "stream",
     "text": [
      "Estimated θ = 0.3224655498770083\n",
      "Estimated σ = 4.534520961001689\n",
      "Estimated f0 = -0.2293437652791314\n",
      "Estimated fx = 1.1327558493795031\n"
     ]
    }
   ],
   "source": [
    "J(β) = SMM(β,[1,1,1,1,1,1]; dist=2)\n",
    "β0 = [0.5, 1, 1, 1]\n",
    "opt = optimize(J,β0)\n",
    "println(\"Estimated θ = $(opt.minimizer[1])\")\n",
    "println(\"Estimated σ = $(opt.minimizer[2])\")\n",
    "println(\"Estimated f0 = $(opt.minimizer[3])\")\n",
    "println(\"Estimated fx = $(opt.minimizer[4])\")"
   ]
  }
 ],
 "metadata": {
  "kernelspec": {
   "display_name": "Julia 1.7.2",
   "language": "julia",
   "name": "julia-1.7"
  },
  "language_info": {
   "file_extension": ".jl",
   "mimetype": "application/julia",
   "name": "julia",
   "version": "1.7.2"
  }
 },
 "nbformat": 4,
 "nbformat_minor": 5
}
